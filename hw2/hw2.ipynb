{
 "cells": [
  {
   "cell_type": "markdown",
   "metadata": {},
   "source": [
    "## Домашнее задание №1"
   ]
  },
  {
   "cell_type": "code",
   "execution_count": 5,
   "metadata": {},
   "outputs": [],
   "source": [
    "import numpy as np\n",
    "import json\n",
    "import re"
   ]
  },
  {
   "cell_type": "markdown",
   "metadata": {},
   "source": [
    "### Задача № 1\n",
    "Импортируйте `torch` и сохраните его версию в переменную version"
   ]
  },
  {
   "cell_type": "code",
   "execution_count": 6,
   "metadata": {},
   "outputs": [],
   "source": [
    "# импортируйте torch и сохраните его версию в переменную version\n",
    "import torch\n",
    "version = torch.__version__\n",
    "\n",
    "# не изменяйте код в блоке ниже! Он нужен для проверки правильности вашего кода.\n",
    "# __________start of block__________\n",
    "assert version is not None, 'Версия PyTorch не сохранилась в переменную version'\n",
    "major_version, minor_version = re.findall(\"\\d+\\.\\d+\", version)[0].split('.')\n",
    "assert float(major_version) >= 2 or (float(major_version) >= 1 and float(minor_version) >= 7), 'Нужно обновить PyTorch'\n",
    "# __________end of block__________"
   ]
  },
  {
   "cell_type": "markdown",
   "metadata": {},
   "source": [
    "Теперь импортируйте модуль `nn` и внутри функции `create_model` постройте нейронную сеть из трех линейных слоев размерностей 256, 16 и 10. Не забывайте о свободном члене (bias).\n",
    "\n",
    "Исходные элементы данных имеют размерность 784. В качестве функций активации скрытых слоев используйте ReLU. Самый последний слой оставьте без функции активации.\n",
    "\n",
    "В этом задании можно пользоваться torch.nn.Sequential()"
   ]
  },
  {
   "cell_type": "code",
   "execution_count": 7,
   "metadata": {},
   "outputs": [],
   "source": [
    "import torch.nn as nn\n",
    "\n",
    "def create_model():\n",
    "    # Linear layer mapping from 784 features, so it should be 784->256->16->10\n",
    "\n",
    "    NN = nn.Sequential(nn.Linear(784, 256, bias=True),\n",
    "                   nn.ReLU(),\n",
    "                   nn.Linear(256, 16, bias=True),\n",
    "                   nn.ReLU(),\n",
    "                   nn.Linear(16, 10, bias=True))\n",
    "\n",
    "    # return model instance (None is just a placeholder)\n",
    "\n",
    "    return NN\n",
    "\n",
    "\n",
    "model = create_model()\n",
    "# не изменяйте код в блоке ниже! Он нужен для проверки правильности вашего кода.\n",
    "# __________start of block__________\n",
    "for param in model.parameters():\n",
    "    nn.init.constant_(param, 1.)\n",
    "\n",
    "assert torch.allclose(model(torch.ones((1, 784))), torch.ones((1, 10)) * 3215377.), 'Что-то не так со структурой модели'\n",
    "\n",
    "# __________end of block__________"
   ]
  },
  {
   "cell_type": "markdown",
   "metadata": {},
   "source": [
    "Скопируйте функцию `create_model` в `submission_template01.py` для последующей сдачи задания."
   ]
  },
  {
   "cell_type": "markdown",
   "metadata": {},
   "source": [
    "### Задача №2\n",
    "Реализуйте функцию для подсчета количества параметров в модели (вам может помочь `model.parameters()`).\n",
    "\n",
    "На вход она принимает модель, на выход возвращает одно число – количество параметров в модели. Для вашего удобства доступно несколько тестов ниже."
   ]
  },
  {
   "cell_type": "code",
   "execution_count": 8,
   "metadata": {},
   "outputs": [
    {
     "name": "stdout",
     "output_type": "stream",
     "text": [
      "Seems fine!\n"
     ]
    }
   ],
   "source": [
    "def count_parameters(model):\n",
    "    # верните количество параметров модели model\n",
    "    return sum(p.numel() for p in model.parameters())\n",
    "\n",
    "\n",
    "# не изменяйте код в блоке ниже! Он нужен для проверки правильности вашего кода.\n",
    "# __________start of block__________\n",
    "small_model = nn.Linear(128, 256)\n",
    "assert count_parameters(small_model) == 128 * 256 + 256, 'Что-то не так, количество параметров неверное'\n",
    "\n",
    "medium_model = nn.Sequential(*[nn.Linear(128, 32, bias=False), nn.ReLU(), nn.Linear(32, 10, bias=False)])\n",
    "assert count_parameters(medium_model) == 128 * 32 + 32 * 10, 'Что-то не так, количество параметров неверное'\n",
    "print(\"Seems fine!\")\n",
    "# __________end of block__________"
   ]
  },
  {
   "cell_type": "markdown",
   "metadata": {},
   "source": [
    "Скопируйте функцию `count_parameters` в `submission_template01.py` для последующей сдачи задания.\n",
    "Отправьте `submission_template01.py` в Яндекс.Контест."
   ]
  }
 ],
 "metadata": {
  "kernelspec": {
   "display_name": "Python 3.11.0 64-bit",
   "language": "python",
   "name": "python3"
  },
  "language_info": {
   "codemirror_mode": {
    "name": "ipython",
    "version": 3
   },
   "file_extension": ".py",
   "mimetype": "text/x-python",
   "name": "python",
   "nbconvert_exporter": "python",
   "pygments_lexer": "ipython3",
   "version": "3.11.0"
  },
  "orig_nbformat": 4,
  "vscode": {
   "interpreter": {
    "hash": "aee8b7b246df8f9039afb4144a1f6fd8d2ca17a180786b69acc140d282b71a49"
   }
  }
 },
 "nbformat": 4,
 "nbformat_minor": 2
}
